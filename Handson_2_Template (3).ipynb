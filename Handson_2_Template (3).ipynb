{
 "cells": [
  {
   "cell_type": "markdown",
   "metadata": {},
   "source": [
    "# Selections and Loops"
   ]
  },
  {
   "cell_type": "markdown",
   "metadata": {},
   "source": [
    "## 3.1 Letter Grade Converter\n",
    "Create a program that converts number grades to letter grades.\n",
    "\n",
    "### Console:\n",
    "```powershell\n",
    "Letter Grade Converter\n",
    "\n",
    "Enter numerical grade: 90 \n",
    "Letter grade: A\n",
    "\n",
    "Continue? (y/n): y\n",
    "\n",
    "Enter numerical grade: 88 \n",
    "Letter grade: A\n",
    "\n",
    "Continue? (y/n): y\n",
    "\n",
    "Enter numerical grade: 80 \n",
    "Letter grade: B\n",
    "\n",
    "Continue? (y/n): y\n",
    "\n",
    "Enter numerical grade: 67 \n",
    "Letter grade: C\n",
    "\n",
    "Continue? (y/n): y\n",
    "\n",
    "Enter numerical grade: 59 \n",
    "Letter grade: F\n",
    "\n",
    "Continue? (y/n): n\n",
    "\n",
    "Bye!\n",
    "```\n",
    "\n",
    "### Specifications:\n",
    "- Assume that the user will enter valid integers for the grades.\n",
    "- The program should continue only if the user enters “y” or “Y” to continue.\n",
    "- The grading criteria is as follows:\n",
    "\n",
    "| Letter |\tRange |\n",
    "|---|-------|\n",
    "| A |\t88-100 |\n",
    "| B |\t80-87 |\n",
    "| C |\t67-79 |\n",
    "| D |\t60-66 |\n",
    "| F |\t<60 |"
   ]
  },
  {
   "cell_type": "code",
   "execution_count": 7,
   "metadata": {},
   "outputs": [
    {
     "name": "stdin",
     "output_type": "stream",
     "text": [
      "Enter the grade (0-100):  66\n"
     ]
    },
    {
     "name": "stdout",
     "output_type": "stream",
     "text": [
      "The letter grade is: D\n"
     ]
    },
    {
     "name": "stdin",
     "output_type": "stream",
     "text": [
      "Do you want to enter another grade? (y/n):  y\n",
      "Enter the grade (0-100):  78\n"
     ]
    },
    {
     "name": "stdout",
     "output_type": "stream",
     "text": [
      "The letter grade is: C\n"
     ]
    },
    {
     "name": "stdin",
     "output_type": "stream",
     "text": [
      "Do you want to enter another grade? (y/n):  y\n",
      "Enter the grade (0-100):  86\n"
     ]
    },
    {
     "name": "stdout",
     "output_type": "stream",
     "text": [
      "The letter grade is: B\n"
     ]
    },
    {
     "ename": "KeyboardInterrupt",
     "evalue": "Interrupted by user",
     "output_type": "error",
     "traceback": [
      "\u001b[1;31m---------------------------------------------------------------------------\u001b[0m",
      "\u001b[1;31mKeyboardInterrupt\u001b[0m                         Traceback (most recent call last)",
      "Cell \u001b[1;32mIn[7], line 17\u001b[0m\n\u001b[0;32m     13\u001b[0m     letter \u001b[38;5;241m=\u001b[39m \u001b[38;5;124m'\u001b[39m\u001b[38;5;124mF\u001b[39m\u001b[38;5;124m'\u001b[39m\n\u001b[0;32m     15\u001b[0m \u001b[38;5;28mprint\u001b[39m(\u001b[38;5;124mf\u001b[39m\u001b[38;5;124m\"\u001b[39m\u001b[38;5;124mThe letter grade is: \u001b[39m\u001b[38;5;132;01m{\u001b[39;00mletter\u001b[38;5;132;01m}\u001b[39;00m\u001b[38;5;124m\"\u001b[39m)\n\u001b[1;32m---> 17\u001b[0m \u001b[38;5;28;01mif\u001b[39;00m \u001b[38;5;28minput\u001b[39m(\u001b[38;5;124m\"\u001b[39m\u001b[38;5;124mDo you want to enter another grade? (y/n): \u001b[39m\u001b[38;5;124m\"\u001b[39m)\u001b[38;5;241m.\u001b[39mlower() \u001b[38;5;241m!=\u001b[39m \u001b[38;5;124m'\u001b[39m\u001b[38;5;124my\u001b[39m\u001b[38;5;124m'\u001b[39m:\n\u001b[0;32m     18\u001b[0m     \u001b[38;5;28;01mbreak\u001b[39;00m\n",
      "File \u001b[1;32m~\\anaconda3\\Lib\\site-packages\\ipykernel\\kernelbase.py:1262\u001b[0m, in \u001b[0;36mKernel.raw_input\u001b[1;34m(self, prompt)\u001b[0m\n\u001b[0;32m   1260\u001b[0m     msg \u001b[38;5;241m=\u001b[39m \u001b[38;5;124m\"\u001b[39m\u001b[38;5;124mraw_input was called, but this frontend does not support input requests.\u001b[39m\u001b[38;5;124m\"\u001b[39m\n\u001b[0;32m   1261\u001b[0m     \u001b[38;5;28;01mraise\u001b[39;00m StdinNotImplementedError(msg)\n\u001b[1;32m-> 1262\u001b[0m \u001b[38;5;28;01mreturn\u001b[39;00m \u001b[38;5;28mself\u001b[39m\u001b[38;5;241m.\u001b[39m_input_request(\n\u001b[0;32m   1263\u001b[0m     \u001b[38;5;28mstr\u001b[39m(prompt),\n\u001b[0;32m   1264\u001b[0m     \u001b[38;5;28mself\u001b[39m\u001b[38;5;241m.\u001b[39m_parent_ident[\u001b[38;5;124m\"\u001b[39m\u001b[38;5;124mshell\u001b[39m\u001b[38;5;124m\"\u001b[39m],\n\u001b[0;32m   1265\u001b[0m     \u001b[38;5;28mself\u001b[39m\u001b[38;5;241m.\u001b[39mget_parent(\u001b[38;5;124m\"\u001b[39m\u001b[38;5;124mshell\u001b[39m\u001b[38;5;124m\"\u001b[39m),\n\u001b[0;32m   1266\u001b[0m     password\u001b[38;5;241m=\u001b[39m\u001b[38;5;28;01mFalse\u001b[39;00m,\n\u001b[0;32m   1267\u001b[0m )\n",
      "File \u001b[1;32m~\\anaconda3\\Lib\\site-packages\\ipykernel\\kernelbase.py:1305\u001b[0m, in \u001b[0;36mKernel._input_request\u001b[1;34m(self, prompt, ident, parent, password)\u001b[0m\n\u001b[0;32m   1302\u001b[0m \u001b[38;5;28;01mexcept\u001b[39;00m \u001b[38;5;167;01mKeyboardInterrupt\u001b[39;00m:\n\u001b[0;32m   1303\u001b[0m     \u001b[38;5;66;03m# re-raise KeyboardInterrupt, to truncate traceback\u001b[39;00m\n\u001b[0;32m   1304\u001b[0m     msg \u001b[38;5;241m=\u001b[39m \u001b[38;5;124m\"\u001b[39m\u001b[38;5;124mInterrupted by user\u001b[39m\u001b[38;5;124m\"\u001b[39m\n\u001b[1;32m-> 1305\u001b[0m     \u001b[38;5;28;01mraise\u001b[39;00m \u001b[38;5;167;01mKeyboardInterrupt\u001b[39;00m(msg) \u001b[38;5;28;01mfrom\u001b[39;00m \u001b[38;5;28;01mNone\u001b[39;00m\n\u001b[0;32m   1306\u001b[0m \u001b[38;5;28;01mexcept\u001b[39;00m \u001b[38;5;167;01mException\u001b[39;00m:\n\u001b[0;32m   1307\u001b[0m     \u001b[38;5;28mself\u001b[39m\u001b[38;5;241m.\u001b[39mlog\u001b[38;5;241m.\u001b[39mwarning(\u001b[38;5;124m\"\u001b[39m\u001b[38;5;124mInvalid Message:\u001b[39m\u001b[38;5;124m\"\u001b[39m, exc_info\u001b[38;5;241m=\u001b[39m\u001b[38;5;28;01mTrue\u001b[39;00m)\n",
      "\u001b[1;31mKeyboardInterrupt\u001b[0m: Interrupted by user"
     ]
    },
    {
     "name": "stdin",
     "output_type": "stream",
     "text": [
      "Do you want to enter another grade? (y/n):  n\n"
     ]
    }
   ],
   "source": [
    "while True:\n",
    "    grade = int(input(\"Enter the grade (0-100): \"))\n",
    "\n",
    "    if grade >= 88:\n",
    "        letter = 'A'\n",
    "    elif grade >= 80:\n",
    "        letter = 'B'\n",
    "    elif grade >= 67:\n",
    "        letter = 'C'\n",
    "    elif grade >= 60:\n",
    "        letter = 'D'\n",
    "    else:\n",
    "        letter = 'F'\n",
    "\n",
    "    print(f\"The letter grade is: {letter}\")\n",
    "\n",
    "    if input(\"Do you want to enter another grade? (y/n): \").lower() != 'y':\n",
    "        break\n"
   ]
  },
  {
   "cell_type": "markdown",
   "metadata": {},
   "source": [
    "## 3.2 - Tip Calculator\n",
    "Create a program that calculates three options for an appropriate tip to leave after a meal at a restaurant.\n",
    "\n",
    "### Console\n",
    "```powershell\n",
    "Tip Calculator\n",
    "\n",
    "Cost of meal: 52.31 \n",
    "\n",
    "15%\n",
    "Tip amount:\t7.85\n",
    "Total amount: 60.16\n",
    "\n",
    "20%\n",
    "Tip amount:\t10.46\n",
    "Total amount: 62.77\n",
    "\n",
    "25%\n",
    "Tip amount:\t13.08\n",
    "Total amount: 65.39\n",
    "```\n",
    "\n",
    "### Specifications:\n",
    "- The program should calculate and display the cost of tipping at 15%, 20%, or 25%.\n",
    "- Assume the user will enter valid data.\n",
    "- The program should round results to a maximum of two decimal places.\n",
    "\n"
   ]
  },
  {
   "cell_type": "code",
   "execution_count": 2,
   "metadata": {},
   "outputs": [],
   "source": [
    "tot = float(input(\"Enter the total cost of your meal: \"))\n",
    "\n",
    "\n",
    "tip_15 = round(tot * 0.15, 2)\n",
    "tip_20 = round(tot * 0.20, 2)\n",
    "tip_25 = round(tot * 0.25, 2)\n",
    "\n",
    "\n",
    "print(f\"Tip at 15%: ${tip_15}\")\n",
    "print(f\"Tip at 20%: ${tip_20}\")\n",
    "print(f\"Tip at 25%: ${tip_25}\")"
   ]
  },
  {
   "cell_type": "markdown",
   "metadata": {},
   "source": [
    "## 3.3 - Change Calculator\n",
    "Create a program that calculates the coins needed to make change for the specified number of cents.\n",
    "\n",
    "### Console\n",
    "```powershell\n",
    "Change Calculator\n",
    "\n",
    "Enter number of cents (0-99): 99\n",
    "\n",
    "Quarters: 3\n",
    "Dimes:\t2\n",
    "Nickels: 0\n",
    "Pennies: 4\n",
    "\n",
    "Continue? (y/n): y\n",
    "\n",
    "Enter number of cents (0-99): 55\n",
    "\n",
    "Quarters: 2\n",
    "Dimes:\t0\n",
    "Nickels: 1\n",
    "Pennies: 0\n",
    "\n",
    "Continue? (y/n): n \n",
    "\n",
    "Bye!\n",
    "```\n",
    "\n",
    "### Specifications\n",
    "- The program should display the minimum number of quarters, dimes, nickels, and pennies that one needs to make up the specified number of cents.\n",
    "- Assume that the user will enter a valid integer for the number of cents.\n",
    "- The program should continue only if the user enters “y” or “Y” to continue.\n"
   ]
  },
  {
   "cell_type": "code",
   "execution_count": 1,
   "metadata": {},
   "outputs": [
    {
     "name": "stdin",
     "output_type": "stream",
     "text": [
      "Enter the number of cents:  75\n"
     ]
    },
    {
     "name": "stdout",
     "output_type": "stream",
     "text": [
      "Quarters: 3\n",
      "Dimes: 0\n",
      "Nickels: 0\n",
      "Pennies: 0\n"
     ]
    },
    {
     "name": "stdin",
     "output_type": "stream",
     "text": [
      "Do you want to calculate again? (y/n):  n\n"
     ]
    },
    {
     "name": "stdout",
     "output_type": "stream",
     "text": [
      "Goodbye!\n"
     ]
    }
   ],
   "source": [
    "def calculate_change(cents):\n",
    "    quarters = cents // 25\n",
    "    cents %= 25\n",
    "    dimes = cents // 10\n",
    "    cents %= 10\n",
    "    nickels = cents // 5\n",
    "    cents %= 5\n",
    "    pennies = cents\n",
    "\n",
    "    return quarters, dimes, nickels, pennies\n",
    "\n",
    "def main():\n",
    "    while True:\n",
    "        cents = int(input(\"Enter the number of cents: \"))\n",
    "\n",
    "        quarters, dimes, nickels, pennies = calculate_change(cents)\n",
    "\n",
    "        print(f\"Quarters: {quarters}\")\n",
    "        print(f\"Dimes: {dimes}\")\n",
    "        print(f\"Nickels: {nickels}\")\n",
    "        print(f\"Pennies: {pennies}\")\n",
    "\n",
    "        if input(\"Do you want to calculate again? (y/n): \").strip().lower() != 'y':\n",
    "            print(\"Goodbye!\")\n",
    "            break\n",
    "if __name__ == \"__main__\":\n",
    "    main()"
   ]
  },
  {
   "cell_type": "markdown",
   "metadata": {},
   "source": [
    "## 3.4 - Table of Powers\n",
    "Create a program that displays a table of squares and cubes for the specified range of numbers.\n",
    "\n",
    "### Console\n",
    "```powershell\n",
    "Table of Powers\n",
    "\n",
    "Start number: 90\n",
    "Stop number: 100\n",
    "\n",
    "Number\tSquared\tCubed\n",
    "======\t=======\t=====\n",
    "90      8100\t729000\n",
    "91      8281\t753571\n",
    "92      8464\t778688\n",
    "93      8649\t804357\n",
    "94      8836\t830584\n",
    "95      9025\t857375\n",
    "96      9216\t884736\n",
    "97      9409\t912673\n",
    "98      9604\t941192\n",
    "99      9801\t970299\n",
    "100     10000\t1000000\n",
    "```\n",
    "\n",
    "### Specifications\n",
    "- The formulas for calculating squares and cubes are:\n",
    "\n",
    "    `square = x ** 2`\n",
    "    \n",
    "    `cube = x ** 3`\n",
    "\n",
    "- Use tabs to align the columns.\n",
    "- Assume that the user will enter valid integers.\n",
    "- Make sure the user enters a start integer that’s less than the stop integer. If the user enters a start integer that’s greater than the stop integer, display an error message and give the user a chance to enter the integers again.\n"
   ]
  },
  {
   "cell_type": "code",
   "execution_count": null,
   "metadata": {},
   "outputs": [],
   "source": [
    "def calculate_change(cents):\n",
    "    quarters = cents // 25\n",
    "    cents %= 25\n",
    "    dimes = cents // 10\n",
    "    cents %= 10\n",
    "    nickels = cents // 5\n",
    "    cents %= 5\n",
    "    pennies = cents\n",
    "\n",
    "    return quarters, dimes, nickels, pennies\n",
    "\n",
    "def main():\n",
    "    while True:\n",
    "        cents = int(input(\"Enter the number of cents: \"))\n",
    "\n",
    "        quarters, dimes, nickels, pennies = calculate_change(cents)\n",
    "\n",
    "        print(f\"Quarters: {quarters}\")\n",
    "        print(f\"Dimes: {dimes}\")\n",
    "        print(f\"Nickels: {nickels}\")\n",
    "        print(f\"Pennies: {pennies}\")\n",
    "\n",
    "        if input(\"Do you want to calculate again? (y/n): \").strip().lower() != 'y':\n",
    "            print(\"Goodbye!\")\n",
    "            break\n",
    "if __name__ == \"__main__\":\n",
    "    main()"
   ]
  }
 ],
 "metadata": {
  "kernelspec": {
   "display_name": "Python [conda env:base] *",
   "language": "python",
   "name": "conda-base-py"
  },
  "language_info": {
   "codemirror_mode": {
    "name": "ipython",
    "version": 3
   },
   "file_extension": ".py",
   "mimetype": "text/x-python",
   "name": "python",
   "nbconvert_exporter": "python",
   "pygments_lexer": "ipython3",
   "version": "3.12.7"
  }
 },
 "nbformat": 4,
 "nbformat_minor": 4
}
